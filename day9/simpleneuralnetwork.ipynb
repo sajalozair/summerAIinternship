{
 "cells": [
  {
   "cell_type": "code",
   "execution_count": 2,
   "id": "8b3aa26d",
   "metadata": {},
   "outputs": [
    {
     "name": "stdout",
     "output_type": "stream",
     "text": [
      "Requirement already satisfied: numpy in c:\\users\\dell\\anaconda3\\envs\\nnet1\\lib\\site-packages (1.25.1)\n",
      "Note: you may need to restart the kernel to use updated packages.\n"
     ]
    }
   ],
   "source": [
    "pip install numpy"
   ]
  },
  {
   "cell_type": "code",
   "execution_count": 1,
   "id": "38aad8de",
   "metadata": {},
   "outputs": [
    {
     "name": "stdout",
     "output_type": "stream",
     "text": [
      "Requirement already satisfied: pandas in c:\\users\\dell\\anaconda3\\envs\\nnet1\\lib\\site-packages (2.0.3)\n",
      "Requirement already satisfied: python-dateutil>=2.8.2 in c:\\users\\dell\\anaconda3\\envs\\nnet1\\lib\\site-packages (from pandas) (2.8.2)\n",
      "Requirement already satisfied: pytz>=2020.1 in c:\\users\\dell\\anaconda3\\envs\\nnet1\\lib\\site-packages (from pandas) (2023.3)\n",
      "Requirement already satisfied: tzdata>=2022.1 in c:\\users\\dell\\anaconda3\\envs\\nnet1\\lib\\site-packages (from pandas) (2023.3)\n",
      "Requirement already satisfied: numpy>=1.21.0 in c:\\users\\dell\\anaconda3\\envs\\nnet1\\lib\\site-packages (from pandas) (1.25.1)\n",
      "Requirement already satisfied: six>=1.5 in c:\\users\\dell\\anaconda3\\envs\\nnet1\\lib\\site-packages (from python-dateutil>=2.8.2->pandas) (1.16.0)\n",
      "Note: you may need to restart the kernel to use updated packages.\n"
     ]
    }
   ],
   "source": [
    "pip install pandas"
   ]
  },
  {
   "cell_type": "code",
   "execution_count": 1,
   "id": "c0dbac9a",
   "metadata": {},
   "outputs": [],
   "source": [
    "import pandas as pd\n",
    "import numpy as np"
   ]
  },
  {
   "cell_type": "code",
   "execution_count": 10,
   "id": "4f165ef9",
   "metadata": {},
   "outputs": [
    {
     "name": "stdout",
     "output_type": "stream",
     "text": [
      "       0    1    2    3               4\n",
      "0    5.1  3.5  1.4  0.2     Iris-setosa\n",
      "1    4.9  3.0  1.4  0.2     Iris-setosa\n",
      "2    4.7  3.2  1.3  0.2     Iris-setosa\n",
      "3    4.6  3.1  1.5  0.2     Iris-setosa\n",
      "4    5.0  3.6  1.4  0.2     Iris-setosa\n",
      "..   ...  ...  ...  ...             ...\n",
      "145  6.7  3.0  5.2  2.3  Iris-virginica\n",
      "146  6.3  2.5  5.0  1.9  Iris-virginica\n",
      "147  6.5  3.0  5.2  2.0  Iris-virginica\n",
      "148  6.2  3.4  5.4  2.3  Iris-virginica\n",
      "149  5.9  3.0  5.1  1.8  Iris-virginica\n",
      "\n",
      "[150 rows x 5 columns]\n"
     ]
    }
   ],
   "source": [
    "df=pd.read_csv('iris.data.csv', header=None)\n",
    "print(df)"
   ]
  },
  {
   "cell_type": "code",
   "execution_count": 13,
   "id": "62026e8f",
   "metadata": {},
   "outputs": [],
   "source": [
    "x = df.iloc[0:100,[0, 1, 2, 3]].values\n",
    "y = df.iloc[0:100,4].values\n",
    "y = np.where(y=='Iris-setosa', 0, 1)"
   ]
  },
  {
   "cell_type": "code",
   "execution_count": 14,
   "id": "ec5efb84",
   "metadata": {},
   "outputs": [],
   "source": [
    "x_train = np.empty((80, 4))\n",
    "x_test = np.empty((20, 4))\n",
    "y_train = np.empty(80)\n",
    "y_test = np.empty(20)\n",
    "x_train[:40],x_train[40:] = x[:40],x[50:90]\n",
    "x_test[:10],x_test[10:] = x[40:50],x[90:100]\n",
    "y_train[:40],y_train[40:] = y[:40],y[50:90]\n",
    "y_test[:10],y_test[10:] = y[40:50],y[90:100]\n"
   ]
  },
  {
   "cell_type": "code",
   "execution_count": 16,
   "id": "a7b2d1d0",
   "metadata": {},
   "outputs": [],
   "source": [
    "def sigmoid(x):\n",
    "    return 1/(1+np.exp(-x))\n",
    "def activation(x, w, b):\n",
    "    return sigmoid(np.dot(x, w)+b)\n",
    "def update(x, y_train, w, b, eta): \n",
    "    y_pred = activation(x, w, b) \n",
    "    # activator\n",
    "    a = (y_pred - y_train) * y_pred * (1- y_pred) \n",
    "    # partial derivative loss function\n",
    "    for i in range(4):\n",
    "        w[i] -= eta * 1/float(len(y)) * np.sum(a*x[:,i])\n",
    "    b -= eta * 1/float(len(y))*np.sum(a)\n",
    "    return w, b"
   ]
  },
  {
   "cell_type": "code",
   "execution_count": 25,
   "id": "77504772",
   "metadata": {},
   "outputs": [],
   "source": [
    "weights = np.ones(4)/10 \n",
    "bias = np.ones(1)/10 \n",
    "eta = 0.1\n",
    "for _ in range(15): # Run both epoch=15 & epoch=100 \n",
    " weights, bias = update(x_train, y_train, weights, bias, eta=0.1)"
   ]
  },
  {
   "cell_type": "code",
   "execution_count": 26,
   "id": "1b2777e7",
   "metadata": {},
   "outputs": [
    {
     "name": "stdout",
     "output_type": "stream",
     "text": [
      "Epochs = 15\n",
      "weights =  [-0.04988841 -0.05887405  0.16550847  0.13847781] bias =  [0.06215794]\n",
      "y_test = [0. 0. 0. 0. 0. 0. 0. 0. 0. 0. 1. 1. 1. 1. 1. 1. 1. 1. 1. 1.]\n"
     ]
    },
    {
     "data": {
      "text/plain": [
       "array([0.46589332, 0.48973998, 0.47429981, 0.4886412 , 0.48846777,\n",
       "       0.47984259, 0.46916786, 0.47593903, 0.46403066, 0.46949766,\n",
       "       0.62927546, 0.63098025, 0.61014931, 0.58951514, 0.62221951,\n",
       "       0.61360253, 0.61827101, 0.61628812, 0.57673708, 0.61575116])"
      ]
     },
     "execution_count": 26,
     "metadata": {},
     "output_type": "execute_result"
    }
   ],
   "source": [
    "print(\"Epochs = 15\") # Run both epoch=15 & epoch=100\n",
    "print('weights = ', weights, 'bias = ', bias)\n",
    "print(\"y_test = {}\".format(y_test))\n",
    "activation(x_test, weights, bias)\n"
   ]
  },
  {
   "cell_type": "code",
   "execution_count": 27,
   "id": "ef4f55fb",
   "metadata": {},
   "outputs": [],
   "source": [
    "weights = np.ones(4)/10 \n",
    "bias = np.ones(1)/10 \n",
    "eta = 0.1\n",
    "for _ in range(100): # Run both epoch=15 & epoch=100 \n",
    " weights, bias = update(x_train, y_train, weights, bias, eta=0.1)"
   ]
  },
  {
   "cell_type": "code",
   "execution_count": 28,
   "id": "fa774823",
   "metadata": {},
   "outputs": [
    {
     "name": "stdout",
     "output_type": "stream",
     "text": [
      "Epochs = 100\n",
      "weights =  [-0.1490311  -0.38795727  0.64200298  0.34623798] bias =  [0.00359432]\n",
      "y_test = [0. 0. 0. 0. 0. 0. 0. 0. 0. 0. 1. 1. 1. 1. 1. 1. 1. 1. 1. 1.]\n"
     ]
    },
    {
     "data": {
      "text/plain": [
       "array([0.23849718, 0.34958313, 0.27096061, 0.29640752, 0.29475494,\n",
       "       0.29464059, 0.24337771, 0.27780811, 0.23335547, 0.25850212,\n",
       "       0.80463718, 0.79715058, 0.75287827, 0.69656314, 0.78041003,\n",
       "       0.75066148, 0.76414905, 0.76228492, 0.6411855 , 0.75953983])"
      ]
     },
     "execution_count": 28,
     "metadata": {},
     "output_type": "execute_result"
    }
   ],
   "source": [
    "print(\"Epochs = 100\") # Run both epoch=15 & epoch=100\n",
    "print('weights = ', weights, 'bias = ', bias)\n",
    "print(\"y_test = {}\".format(y_test))\n",
    "activation(x_test, weights, bias)"
   ]
  },
  {
   "cell_type": "code",
   "execution_count": null,
   "id": "208333ee",
   "metadata": {},
   "outputs": [],
   "source": []
  }
 ],
 "metadata": {
  "kernelspec": {
   "display_name": "Python 3 (ipykernel)",
   "language": "python",
   "name": "python3"
  },
  "language_info": {
   "codemirror_mode": {
    "name": "ipython",
    "version": 3
   },
   "file_extension": ".py",
   "mimetype": "text/x-python",
   "name": "python",
   "nbconvert_exporter": "python",
   "pygments_lexer": "ipython3",
   "version": "3.11.4"
  }
 },
 "nbformat": 4,
 "nbformat_minor": 5
}
